{
  "nbformat": 4,
  "nbformat_minor": 0,
  "metadata": {
    "colab": {
      "name": "Untitled0.ipynb",
      "provenance": [],
      "mount_file_id": "13VKqq07wGJsQcbwYEfL8qTYZ4_ZAXEKs",
      "authorship_tag": "ABX9TyNLoINj4zjvFJW9gCZlAhAn",
      "include_colab_link": true
    },
    "kernelspec": {
      "name": "python3",
      "display_name": "Python 3"
    }
  },
  "cells": [
    {
      "cell_type": "markdown",
      "metadata": {
        "id": "view-in-github",
        "colab_type": "text"
      },
      "source": [
        "<a href=\"https://colab.research.google.com/github/dwulansari/dwulansari/blob/main/Untitled0.ipynb\" target=\"_parent\"><img src=\"https://colab.research.google.com/assets/colab-badge.svg\" alt=\"Open In Colab\"/></a>"
      ]
    },
    {
      "cell_type": "code",
      "metadata": {
        "colab": {
          "base_uri": "https://localhost:8080/"
        },
        "id": "isi6dvdQVJ-V",
        "outputId": "a2ade545-e16e-46a4-95f0-697dfbe2f75e"
      },
      "source": [
        "cd /content/drive/MyDrive/Colab Notebooks"
      ],
      "execution_count": 7,
      "outputs": [
        {
          "output_type": "stream",
          "text": [
            "/content/drive/MyDrive/Colab Notebooks\n"
          ],
          "name": "stdout"
        }
      ]
    },
    {
      "cell_type": "code",
      "metadata": {
        "colab": {
          "base_uri": "https://localhost:8080/"
        },
        "id": "GLuSWNrxbgIH",
        "outputId": "5398007d-f121-4a4c-ec96-52d16a8683f7"
      },
      "source": [
        "ls"
      ],
      "execution_count": 8,
      "outputs": [
        {
          "output_type": "stream",
          "text": [
            "\u001b[0m\u001b[01;34m'Tugas 10 Dwi Wulansari'\u001b[0m/   Untitled0.ipynb\n"
          ],
          "name": "stdout"
        }
      ]
    },
    {
      "cell_type": "code",
      "metadata": {
        "id": "cc-Y1M2gbjF3"
      },
      "source": [
        "# import the necessary packages\n",
        "from keras.models import Sequential\n",
        "from keras.layers.convolutional import Conv2D\n",
        "from keras.layers.convolutional import MaxPooling2D\n",
        "from keras.layers.core import Activation\n",
        "from keras.layers.core import Flatten\n",
        "from keras.layers.core import Dense\n",
        "from keras.optimizers import Adam\n",
        "from sklearn.preprocessing import LabelBinarizer\n",
        "from sklearn.model_selection import train_test_split\n",
        "from sklearn.metrics import classification_report\n",
        "from PIL import Image\n",
        "from imutils import paths\n",
        "import numpy as np\n",
        "import os"
      ],
      "execution_count": 9,
      "outputs": []
    },
    {
      "cell_type": "code",
      "metadata": {
        "colab": {
          "base_uri": "https://localhost:8080/"
        },
        "id": "HkPxj4HNbu4l",
        "outputId": "f755203f-eaf9-4d81-93ff-b21a581b2643"
      },
      "source": [
        "# grab all image paths in the input dataset directory, then initialize\n",
        "# our list of images and corresponding class labels\n",
        "print(\"[INFO] loading images...\")\n",
        "imagePaths = paths.list_images(\"Tugas 10 Dwi Wulansari\")\n",
        "data = []\n",
        "labels = []"
      ],
      "execution_count": 10,
      "outputs": [
        {
          "output_type": "stream",
          "text": [
            "[INFO] loading images...\n"
          ],
          "name": "stdout"
        }
      ]
    },
    {
      "cell_type": "code",
      "metadata": {
        "id": "vIZowzOrbzq5"
      },
      "source": [
        "# loop over our input images\n",
        "for imagePath in imagePaths:\n",
        "\t# load the input image from disk, resize it to 32x32 pixels, scale\n",
        "\t# the pixel intensities to the range [0, 1], and then update our\n",
        "\t# images list\n",
        "  image = Image.open(imagePath)\n",
        "  image = np.array(image.resize((32, 32))) / 255.0\n",
        "  data.append(image)\n",
        "\n",
        "\t# extract the class label from the file path and update the\n",
        "\t# labels list\n",
        "  label = imagePath.split(os.path.sep)[-2]\n",
        "  labels.append(label)"
      ],
      "execution_count": 11,
      "outputs": []
    },
    {
      "cell_type": "code",
      "metadata": {
        "colab": {
          "base_uri": "https://localhost:8080/"
        },
        "id": "QH7PSXbab6OZ",
        "outputId": "a9ed8957-257a-411f-bf8f-f7d44f2b59ed"
      },
      "source": [
        "print(labels)"
      ],
      "execution_count": 12,
      "outputs": [
        {
          "output_type": "stream",
          "text": [
            "['highway', 'highway', 'highway', 'highway', 'highway', 'highway', 'highway', 'highway', 'highway', 'highway', 'highway', 'highway', 'highway', 'highway', 'highway', 'highway', 'highway', 'highway', 'highway', 'highway', 'highway', 'highway', 'highway', 'highway', 'highway', 'highway', 'highway', 'highway', 'highway', 'highway', 'highway', 'highway', 'highway', 'highway', 'highway', 'highway', 'highway', 'highway', 'highway', 'highway', 'highway', 'highway', 'highway', 'highway', 'highway', 'highway', 'highway', 'highway', 'highway', 'highway', 'highway', 'highway', 'highway', 'highway', 'highway', 'highway', 'highway', 'highway', 'highway', 'highway', 'highway', 'highway', 'highway', 'highway', 'highway', 'highway', 'highway', 'highway', 'highway', 'highway', 'highway', 'highway', 'highway', 'highway', 'highway', 'highway', 'highway', 'highway', 'highway', 'highway', 'highway', 'highway', 'highway', 'highway', 'highway', 'highway', 'highway', 'highway', 'highway', 'highway', 'highway', 'highway', 'highway', 'highway', 'highway', 'highway', 'highway', 'highway', 'highway', 'highway', 'highway', 'highway', 'highway', 'highway', 'highway', 'highway', 'highway', 'highway', 'highway', 'highway', 'highway', 'highway', 'highway', 'highway', 'highway', 'highway', 'highway', 'highway', 'highway', 'highway', 'highway', 'highway', 'highway', 'highway', 'highway', 'highway', 'highway', 'highway', 'highway', 'highway', 'highway', 'highway', 'highway', 'highway', 'highway', 'highway', 'highway', 'highway', 'highway', 'highway', 'highway', 'highway', 'highway', 'highway', 'highway', 'highway', 'highway', 'highway', 'highway', 'highway', 'highway', 'highway', 'highway', 'highway', 'highway', 'highway', 'highway', 'highway', 'highway', 'highway', 'highway', 'highway', 'highway', 'highway', 'highway', 'highway', 'highway', 'highway', 'highway', 'highway', 'highway', 'highway', 'highway', 'highway', 'highway', 'highway', 'highway', 'highway', 'highway', 'highway', 'highway', 'highway', 'highway', 'highway', 'highway', 'highway', 'highway', 'highway', 'highway', 'highway', 'highway', 'highway', 'highway', 'highway', 'highway', 'highway', 'highway', 'highway', 'highway', 'highway', 'highway', 'highway', 'highway', 'highway', 'highway', 'highway', 'highway', 'highway', 'highway', 'highway', 'highway', 'highway', 'highway', 'highway', 'highway', 'highway', 'highway', 'highway', 'highway', 'highway', 'highway', 'highway', 'highway', 'highway', 'highway', 'highway', 'highway', 'highway', 'highway', 'highway', 'highway', 'highway', 'highway', 'highway', 'highway', 'highway', 'highway', 'highway', 'highway', 'highway', 'highway', 'highway', 'highway', 'highway', 'highway', 'highway', 'highway', 'highway', 'highway', 'highway', 'highway', 'highway', 'highway', 'highway', 'highway', 'highway', 'highway', 'highway', 'highway', 'highway', 'coast', 'coast', 'coast', 'coast', 'coast', 'coast', 'coast', 'coast', 'coast', 'coast', 'coast', 'coast', 'coast', 'coast', 'coast', 'coast', 'coast', 'coast', 'coast', 'coast', 'coast', 'coast', 'coast', 'coast', 'coast', 'coast', 'coast', 'coast', 'coast', 'coast', 'coast', 'coast', 'coast', 'coast', 'coast', 'coast', 'coast', 'coast', 'coast', 'coast', 'coast', 'coast', 'coast', 'coast', 'coast', 'coast', 'coast', 'coast', 'coast', 'coast', 'coast', 'coast', 'coast', 'coast', 'coast', 'coast', 'coast', 'coast', 'coast', 'coast', 'coast', 'coast', 'coast', 'coast', 'coast', 'coast', 'coast', 'coast', 'coast', 'coast', 'coast', 'coast', 'coast', 'coast', 'coast', 'coast', 'coast', 'coast', 'coast', 'coast', 'coast', 'coast', 'coast', 'coast', 'coast', 'coast', 'coast', 'coast', 'coast', 'coast', 'coast', 'coast', 'coast', 'coast', 'coast', 'coast', 'coast', 'coast', 'coast', 'coast', 'coast', 'coast', 'coast', 'coast', 'coast', 'coast', 'coast', 'coast', 'coast', 'coast', 'coast', 'coast', 'coast', 'coast', 'coast', 'coast', 'coast', 'coast', 'coast', 'coast', 'coast', 'coast', 'coast', 'coast', 'coast', 'coast', 'coast', 'coast', 'coast', 'coast', 'coast', 'coast', 'coast', 'coast', 'coast', 'coast', 'coast', 'coast', 'coast', 'coast', 'coast', 'coast', 'coast', 'coast', 'coast', 'coast', 'coast', 'coast', 'coast', 'coast', 'coast', 'coast', 'coast', 'coast', 'coast', 'coast', 'coast', 'coast', 'coast', 'coast', 'coast', 'coast', 'coast', 'coast', 'coast', 'coast', 'coast', 'coast', 'coast', 'coast', 'coast', 'coast', 'coast', 'coast', 'coast', 'coast', 'coast', 'coast', 'coast', 'coast', 'coast', 'coast', 'coast', 'coast', 'coast', 'coast', 'coast', 'coast', 'coast', 'coast', 'coast', 'coast', 'coast', 'coast', 'coast', 'coast', 'coast', 'coast', 'coast', 'coast', 'coast', 'coast', 'coast', 'coast', 'coast', 'coast', 'coast', 'coast', 'coast', 'coast', 'coast', 'coast', 'coast', 'coast', 'coast', 'coast', 'coast', 'coast', 'coast', 'coast', 'coast', 'coast', 'coast', 'coast', 'coast', 'coast', 'coast', 'coast', 'coast', 'coast', 'coast', 'coast', 'coast', 'coast', 'coast', 'coast', 'coast', 'coast', 'coast', 'coast', 'coast', 'coast', 'coast', 'coast', 'coast', 'coast', 'coast', 'coast', 'coast', 'coast', 'coast', 'coast', 'coast', 'coast', 'coast', 'coast', 'coast', 'coast', 'coast', 'coast', 'coast', 'coast', 'coast', 'coast', 'coast', 'coast', 'coast', 'coast', 'coast', 'coast', 'coast', 'coast', 'coast', 'coast', 'coast', 'coast', 'coast', 'coast', 'coast', 'coast', 'coast', 'coast', 'coast', 'coast', 'coast', 'coast', 'coast', 'coast', 'coast', 'coast', 'coast', 'coast', 'coast', 'coast', 'coast', 'coast', 'coast', 'coast', 'coast', 'coast', 'coast', 'coast', 'coast', 'coast', 'coast', 'coast', 'coast', 'coast', 'coast', 'coast', 'coast', 'coast', 'coast', 'coast', 'coast', 'coast', 'coast', 'coast', 'coast', 'coast', 'coast', 'coast', 'coast', 'coast', 'coast', 'coast', 'coast', 'coast', 'coast', 'coast', 'coast', 'coast', 'coast', 'coast', 'coast', 'coast', 'coast', 'coast', 'coast', 'coast', 'coast', 'coast', 'coast', 'coast', 'coast', 'coast', 'coast', 'coast', 'coast', 'coast', 'coast', 'coast', 'coast', 'coast', 'coast', 'coast', 'coast', 'coast', 'coast', 'coast', 'forest', 'forest', 'forest', 'forest', 'forest', 'forest', 'forest', 'forest', 'forest', 'forest', 'forest', 'forest', 'forest', 'forest', 'forest', 'forest', 'forest', 'forest', 'forest', 'forest', 'forest', 'forest', 'forest', 'forest', 'forest', 'forest', 'forest', 'forest', 'forest', 'forest', 'forest', 'forest', 'forest', 'forest', 'forest', 'forest', 'forest', 'forest', 'forest', 'forest', 'forest', 'forest', 'forest', 'forest', 'forest', 'forest', 'forest', 'forest', 'forest', 'forest', 'forest', 'forest', 'forest', 'forest', 'forest', 'forest', 'forest', 'forest', 'forest', 'forest', 'forest', 'forest', 'forest', 'forest', 'forest', 'forest', 'forest', 'forest', 'forest', 'forest', 'forest', 'forest', 'forest', 'forest', 'forest', 'forest', 'forest', 'forest', 'forest', 'forest', 'forest', 'forest', 'forest', 'forest', 'forest', 'forest', 'forest', 'forest', 'forest', 'forest', 'forest', 'forest', 'forest', 'forest', 'forest', 'forest', 'forest', 'forest', 'forest', 'forest', 'forest', 'forest', 'forest', 'forest', 'forest', 'forest', 'forest', 'forest', 'forest', 'forest', 'forest', 'forest', 'forest', 'forest', 'forest', 'forest', 'forest', 'forest', 'forest', 'forest', 'forest', 'forest', 'forest', 'forest', 'forest', 'forest', 'forest', 'forest', 'forest', 'forest', 'forest', 'forest', 'forest', 'forest', 'forest', 'forest', 'forest', 'forest', 'forest', 'forest', 'forest', 'forest', 'forest', 'forest', 'forest', 'forest', 'forest', 'forest', 'forest', 'forest', 'forest', 'forest', 'forest', 'forest', 'forest', 'forest', 'forest', 'forest', 'forest', 'forest', 'forest', 'forest', 'forest', 'forest', 'forest', 'forest', 'forest', 'forest', 'forest', 'forest', 'forest', 'forest', 'forest', 'forest', 'forest', 'forest', 'forest', 'forest', 'forest', 'forest', 'forest', 'forest', 'forest', 'forest', 'forest', 'forest', 'forest', 'forest', 'forest', 'forest', 'forest', 'forest', 'forest', 'forest', 'forest', 'forest', 'forest', 'forest', 'forest', 'forest', 'forest', 'forest', 'forest', 'forest', 'forest', 'forest', 'forest', 'forest', 'forest', 'forest', 'forest', 'forest', 'forest', 'forest', 'forest', 'forest', 'forest', 'forest', 'forest', 'forest', 'forest', 'forest', 'forest', 'forest', 'forest', 'forest', 'forest', 'forest', 'forest', 'forest', 'forest', 'forest', 'forest', 'forest', 'forest', 'forest', 'forest', 'forest', 'forest', 'forest', 'forest', 'forest', 'forest', 'forest', 'forest', 'forest', 'forest', 'forest', 'forest', 'forest', 'forest', 'forest', 'forest', 'forest', 'forest', 'forest', 'forest', 'forest', 'forest', 'forest', 'forest', 'forest', 'forest', 'forest', 'forest', 'forest', 'forest', 'forest', 'forest', 'forest', 'forest', 'forest', 'forest', 'forest', 'forest', 'forest', 'forest', 'forest', 'forest', 'forest', 'forest', 'forest', 'forest', 'forest', 'forest', 'forest', 'forest', 'forest', 'forest', 'forest', 'forest', 'forest', 'forest', 'forest', 'forest', 'forest', 'forest', 'forest', 'forest', 'forest', 'forest', 'forest', 'forest', 'forest', 'forest', 'forest', 'forest', 'forest', 'forest', 'forest', 'forest', 'forest', 'forest', 'forest', 'forest', 'forest', 'forest', 'forest', 'forest', 'forest', 'forest', 'forest', 'forest', 'forest', 'forest', 'forest', 'forest', 'forest']\n"
          ],
          "name": "stdout"
        }
      ]
    },
    {
      "cell_type": "code",
      "metadata": {
        "id": "S0DxhnRMe1Rr"
      },
      "source": [
        "# encode the labels, converting them from strings to integers\n",
        "lb = LabelBinarizer()\n",
        "labels = lb.fit_transform(labels)"
      ],
      "execution_count": 13,
      "outputs": []
    },
    {
      "cell_type": "code",
      "metadata": {
        "colab": {
          "base_uri": "https://localhost:8080/"
        },
        "id": "tInymBD-e41M",
        "outputId": "4b2c134d-a1a5-4b29-f5f6-5265f8cc4f12"
      },
      "source": [
        "print(labels)"
      ],
      "execution_count": 14,
      "outputs": [
        {
          "output_type": "stream",
          "text": [
            "[[0 0 1]\n",
            " [0 0 1]\n",
            " [0 0 1]\n",
            " ...\n",
            " [0 1 0]\n",
            " [0 1 0]\n",
            " [0 1 0]]\n"
          ],
          "name": "stdout"
        }
      ]
    },
    {
      "cell_type": "code",
      "metadata": {
        "colab": {
          "base_uri": "https://localhost:8080/"
        },
        "id": "ql-Jcpczb_6k",
        "outputId": "25b80002-baf7-4b3b-eb0e-3b3c2dcd97c3"
      },
      "source": [
        "# perform a training and testing split, using 75% of the data for\n",
        "# training and 25% for evaluation\n",
        "(trainX, testX, trainY, testY) = train_test_split(np.array(data),\tnp.array(labels), test_size=0.25)\n",
        "print(trainX.shape)\n",
        "print(testX.shape)"
      ],
      "execution_count": 15,
      "outputs": [
        {
          "output_type": "stream",
          "text": [
            "(711, 32, 32, 3)\n",
            "(237, 32, 32, 3)\n"
          ],
          "name": "stdout"
        }
      ]
    },
    {
      "cell_type": "code",
      "metadata": {
        "id": "5ACYmBFOe_W7"
      },
      "source": [
        "from keras.models import Sequential\n",
        "from keras.layers.core import Flatten\n",
        "from keras.layers.core import Dense\n",
        "\n",
        "model = Sequential(\n",
        "    [\n",
        "        Flatten(input_shape=(32*32*3,)),\n",
        "        Dense(60, activation=\"relu\", name=\"layer1\"),\n",
        "        Dense(60, activation=\"relu\", name=\"layer2\"),\n",
        "        Dense(60, activation=\"relu\", name=\"layer3\"),\n",
        "        Dense(60, activation=\"relu\", name=\"layer4\"),\n",
        "        Dense(50, activation=\"relu\", name=\"layer5\"),\n",
        "        Dense(50, activation=\"relu\", name=\"layer6\"),\n",
        "        Dense(3, activation = \"softmax\", name=\"layer7\"),\n",
        "    ]\n",
        ")"
      ],
      "execution_count": 17,
      "outputs": []
    },
    {
      "cell_type": "code",
      "metadata": {
        "colab": {
          "base_uri": "https://localhost:8080/"
        },
        "id": "1KEJg7G1fCRo",
        "outputId": "dce1e638-5144-4491-9dfa-366ed90100c5"
      },
      "source": [
        "model.summary()"
      ],
      "execution_count": 18,
      "outputs": [
        {
          "output_type": "stream",
          "text": [
            "Model: \"sequential_1\"\n",
            "_________________________________________________________________\n",
            "Layer (type)                 Output Shape              Param #   \n",
            "=================================================================\n",
            "flatten_1 (Flatten)          (None, 3072)              0         \n",
            "_________________________________________________________________\n",
            "layer1 (Dense)               (None, 60)                184380    \n",
            "_________________________________________________________________\n",
            "layer2 (Dense)               (None, 60)                3660      \n",
            "_________________________________________________________________\n",
            "layer3 (Dense)               (None, 60)                3660      \n",
            "_________________________________________________________________\n",
            "layer4 (Dense)               (None, 60)                3660      \n",
            "_________________________________________________________________\n",
            "layer5 (Dense)               (None, 50)                3050      \n",
            "_________________________________________________________________\n",
            "layer6 (Dense)               (None, 50)                2550      \n",
            "_________________________________________________________________\n",
            "layer7 (Dense)               (None, 3)                 153       \n",
            "=================================================================\n",
            "Total params: 201,113\n",
            "Trainable params: 201,113\n",
            "Non-trainable params: 0\n",
            "_________________________________________________________________\n"
          ],
          "name": "stdout"
        }
      ]
    },
    {
      "cell_type": "code",
      "metadata": {
        "colab": {
          "base_uri": "https://localhost:8080/"
        },
        "id": "Ku3DTbJRfR3C",
        "outputId": "bbc6f360-2828-4aea-b40f-7e8608b88111"
      },
      "source": [
        "# train the model using the Adam optimizer\n",
        "print(\"[INFO] training network...\")\n",
        "opt = Adam(lr=1e-3, decay=1e-3 / 50)\n",
        "model.compile(loss=\"categorical_crossentropy\", optimizer=opt,\n",
        "\tmetrics=[\"accuracy\"])\n",
        "H = model.fit(trainX, trainY, validation_data=(testX, testY), epochs=35, batch_size=45,)"
      ],
      "execution_count": 19,
      "outputs": [
        {
          "output_type": "stream",
          "text": [
            "[INFO] training network...\n",
            "Epoch 1/35\n",
            "WARNING:tensorflow:Model was constructed with shape (None, 3072) for input Tensor(\"flatten_1_input:0\", shape=(None, 3072), dtype=float32), but it was called on an input with incompatible shape (None, 32, 32, 3).\n",
            "WARNING:tensorflow:Model was constructed with shape (None, 3072) for input Tensor(\"flatten_1_input:0\", shape=(None, 3072), dtype=float32), but it was called on an input with incompatible shape (None, 32, 32, 3).\n",
            "15/16 [===========================>..] - ETA: 0s - loss: 1.0857 - accuracy: 0.3719WARNING:tensorflow:Model was constructed with shape (None, 3072) for input Tensor(\"flatten_1_input:0\", shape=(None, 3072), dtype=float32), but it was called on an input with incompatible shape (None, 32, 32, 3).\n",
            "16/16 [==============================] - 0s 16ms/step - loss: 1.0876 - accuracy: 0.3755 - val_loss: 1.0292 - val_accuracy: 0.5105\n",
            "Epoch 2/35\n",
            "16/16 [==============================] - 0s 5ms/step - loss: 0.9704 - accuracy: 0.5091 - val_loss: 0.9097 - val_accuracy: 0.5443\n",
            "Epoch 3/35\n",
            "16/16 [==============================] - 0s 5ms/step - loss: 0.8524 - accuracy: 0.5907 - val_loss: 0.7837 - val_accuracy: 0.6751\n",
            "Epoch 4/35\n",
            "16/16 [==============================] - 0s 5ms/step - loss: 0.7257 - accuracy: 0.7117 - val_loss: 0.8345 - val_accuracy: 0.6287\n",
            "Epoch 5/35\n",
            "16/16 [==============================] - 0s 5ms/step - loss: 0.7137 - accuracy: 0.6681 - val_loss: 0.7393 - val_accuracy: 0.6498\n",
            "Epoch 6/35\n",
            "16/16 [==============================] - 0s 6ms/step - loss: 0.6216 - accuracy: 0.7637 - val_loss: 0.5859 - val_accuracy: 0.7722\n",
            "Epoch 7/35\n",
            "16/16 [==============================] - 0s 5ms/step - loss: 0.5277 - accuracy: 0.8200 - val_loss: 0.5913 - val_accuracy: 0.7890\n",
            "Epoch 8/35\n",
            "16/16 [==============================] - 0s 5ms/step - loss: 0.5343 - accuracy: 0.7707 - val_loss: 0.5517 - val_accuracy: 0.7932\n",
            "Epoch 9/35\n",
            "16/16 [==============================] - 0s 5ms/step - loss: 0.4753 - accuracy: 0.8101 - val_loss: 0.5716 - val_accuracy: 0.7764\n",
            "Epoch 10/35\n",
            "16/16 [==============================] - 0s 4ms/step - loss: 0.5008 - accuracy: 0.7947 - val_loss: 0.6533 - val_accuracy: 0.7595\n",
            "Epoch 11/35\n",
            "16/16 [==============================] - 0s 5ms/step - loss: 0.4501 - accuracy: 0.8467 - val_loss: 0.6249 - val_accuracy: 0.7722\n",
            "Epoch 12/35\n",
            "16/16 [==============================] - 0s 5ms/step - loss: 0.4539 - accuracy: 0.8298 - val_loss: 0.5607 - val_accuracy: 0.8017\n",
            "Epoch 13/35\n",
            "16/16 [==============================] - 0s 4ms/step - loss: 0.3847 - accuracy: 0.8720 - val_loss: 0.5461 - val_accuracy: 0.8017\n",
            "Epoch 14/35\n",
            "16/16 [==============================] - 0s 5ms/step - loss: 0.4153 - accuracy: 0.8537 - val_loss: 0.5830 - val_accuracy: 0.7975\n",
            "Epoch 15/35\n",
            "16/16 [==============================] - 0s 5ms/step - loss: 0.3963 - accuracy: 0.8495 - val_loss: 0.6844 - val_accuracy: 0.7722\n",
            "Epoch 16/35\n",
            "16/16 [==============================] - 0s 5ms/step - loss: 0.4114 - accuracy: 0.8481 - val_loss: 0.5899 - val_accuracy: 0.7511\n",
            "Epoch 17/35\n",
            "16/16 [==============================] - 0s 5ms/step - loss: 0.4138 - accuracy: 0.8495 - val_loss: 0.6207 - val_accuracy: 0.7722\n",
            "Epoch 18/35\n",
            "16/16 [==============================] - 0s 5ms/step - loss: 0.4238 - accuracy: 0.8354 - val_loss: 0.5197 - val_accuracy: 0.8059\n",
            "Epoch 19/35\n",
            "16/16 [==============================] - 0s 5ms/step - loss: 0.3198 - accuracy: 0.8861 - val_loss: 0.5677 - val_accuracy: 0.7975\n",
            "Epoch 20/35\n",
            "16/16 [==============================] - 0s 6ms/step - loss: 0.3330 - accuracy: 0.8720 - val_loss: 0.5532 - val_accuracy: 0.8017\n",
            "Epoch 21/35\n",
            "16/16 [==============================] - 0s 5ms/step - loss: 0.2992 - accuracy: 0.8931 - val_loss: 0.5883 - val_accuracy: 0.8059\n",
            "Epoch 22/35\n",
            "16/16 [==============================] - 0s 5ms/step - loss: 0.2725 - accuracy: 0.9030 - val_loss: 0.5478 - val_accuracy: 0.8228\n",
            "Epoch 23/35\n",
            "16/16 [==============================] - 0s 4ms/step - loss: 0.2883 - accuracy: 0.8959 - val_loss: 0.5443 - val_accuracy: 0.8143\n",
            "Epoch 24/35\n",
            "16/16 [==============================] - 0s 5ms/step - loss: 0.2660 - accuracy: 0.9015 - val_loss: 0.5710 - val_accuracy: 0.8059\n",
            "Epoch 25/35\n",
            "16/16 [==============================] - 0s 5ms/step - loss: 0.2560 - accuracy: 0.9114 - val_loss: 0.6244 - val_accuracy: 0.8059\n",
            "Epoch 26/35\n",
            "16/16 [==============================] - 0s 5ms/step - loss: 0.2376 - accuracy: 0.9198 - val_loss: 0.6028 - val_accuracy: 0.8059\n",
            "Epoch 27/35\n",
            "16/16 [==============================] - 0s 5ms/step - loss: 0.2250 - accuracy: 0.9226 - val_loss: 0.6287 - val_accuracy: 0.7975\n",
            "Epoch 28/35\n",
            "16/16 [==============================] - 0s 5ms/step - loss: 0.2262 - accuracy: 0.9198 - val_loss: 0.5639 - val_accuracy: 0.8143\n",
            "Epoch 29/35\n",
            "16/16 [==============================] - 0s 5ms/step - loss: 0.2045 - accuracy: 0.9311 - val_loss: 0.7212 - val_accuracy: 0.7511\n",
            "Epoch 30/35\n",
            "16/16 [==============================] - 0s 5ms/step - loss: 0.2295 - accuracy: 0.9100 - val_loss: 0.7307 - val_accuracy: 0.7722\n",
            "Epoch 31/35\n",
            "16/16 [==============================] - 0s 4ms/step - loss: 0.2137 - accuracy: 0.9198 - val_loss: 0.6355 - val_accuracy: 0.7975\n",
            "Epoch 32/35\n",
            "16/16 [==============================] - 0s 5ms/step - loss: 0.2475 - accuracy: 0.9044 - val_loss: 0.7229 - val_accuracy: 0.8017\n",
            "Epoch 33/35\n",
            "16/16 [==============================] - 0s 5ms/step - loss: 0.2053 - accuracy: 0.9297 - val_loss: 0.6784 - val_accuracy: 0.8059\n",
            "Epoch 34/35\n",
            "16/16 [==============================] - 0s 6ms/step - loss: 0.1866 - accuracy: 0.9367 - val_loss: 0.5787 - val_accuracy: 0.8312\n",
            "Epoch 35/35\n",
            "16/16 [==============================] - 0s 5ms/step - loss: 0.2396 - accuracy: 0.9100 - val_loss: 0.7190 - val_accuracy: 0.7890\n"
          ],
          "name": "stdout"
        }
      ]
    },
    {
      "cell_type": "code",
      "metadata": {
        "colab": {
          "base_uri": "https://localhost:8080/",
          "height": 590
        },
        "id": "UfGYUOhvfZhS",
        "outputId": "4afbcfc5-cf10-41c3-d37a-6dd3806664c3"
      },
      "source": [
        "import matplotlib.pyplot as plt\n",
        "\n",
        "print(H.history.keys())\n",
        "# summarize history for accuracy\n",
        "plt.plot(H.history['accuracy'])\n",
        "plt.plot(H.history['val_accuracy'])\n",
        "plt.title('model accuracy')\n",
        "plt.ylabel('accuracy')\n",
        "plt.xlabel('epoch')\n",
        "plt.legend(['train', 'test'], loc='upper left')\n",
        "plt.show()\n",
        "# summarize history for loss\n",
        "plt.plot(H.history['loss'])\n",
        "plt.plot(H.history['val_loss'])\n",
        "plt.title('model loss')\n",
        "plt.ylabel('loss')\n",
        "plt.xlabel('epoch')\n",
        "plt.legend(['train', 'test'], loc='upper left')\n",
        "plt.show()"
      ],
      "execution_count": 20,
      "outputs": [
        {
          "output_type": "stream",
          "text": [
            "dict_keys(['loss', 'accuracy', 'val_loss', 'val_accuracy'])\n"
          ],
          "name": "stdout"
        },
        {
          "output_type": "display_data",
          "data": {
            "image/png": "[encoded data removed]",
            "text/plain": [
              "<Figure size 432x288 with 1 Axes>"
            ]
          },
          "metadata": {
            "tags": [],
            "needs_background": "light"
          }
        },
        {
          "output_type": "display_data",
          "data": {
            "image/png": "[encoded data removed]",
            "text/plain": [
              "<Figure size 432x288 with 1 Axes>"
            ]
          },
          "metadata": {
            "tags": [],
            "needs_background": "light"
          }
        }
      ]
    },
    {
      "cell_type": "code",
      "metadata": {
        "colab": {
          "base_uri": "https://localhost:8080/"
        },
        "id": "zO1QX6tjfgO4",
        "outputId": "10a75e48-b893-4ff2-ff46-4b49881dad46"
      },
      "source": [
        "# evaluate the network\n",
        "print(\"[INFO] evaluating network...\")\n",
        "predictions = model.predict(testX, batch_size=64)\n",
        "print(classification_report(testY.argmax(axis=1),\n",
        "\tpredictions.argmax(axis=1), target_names=lb.classes_))"
      ],
      "execution_count": 21,
      "outputs": [
        {
          "output_type": "stream",
          "text": [
            "[INFO] evaluating network...\n",
            "WARNING:tensorflow:Model was constructed with shape (None, 3072) for input Tensor(\"flatten_1_input:0\", shape=(None, 3072), dtype=float32), but it was called on an input with incompatible shape (None, 32, 32, 3).\n",
            "              precision    recall  f1-score   support\n",
            "\n",
            "       coast       0.81      0.74      0.78        89\n",
            "      forest       0.82      0.89      0.86        84\n",
            "     highway       0.71      0.72      0.71        64\n",
            "\n",
            "    accuracy                           0.79       237\n",
            "   macro avg       0.78      0.78      0.78       237\n",
            "weighted avg       0.79      0.79      0.79       237\n",
            "\n"
          ],
          "name": "stdout"
        }
      ]
    },
    {
      "cell_type": "code",
      "metadata": {
        "id": "AIdlyYUafkme"
      },
      "source": [
        ""
      ],
      "execution_count": null,
      "outputs": []
    }
  ]
}